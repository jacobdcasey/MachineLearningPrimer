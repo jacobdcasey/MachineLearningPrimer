{
 "cells": [
  {
   "cell_type": "markdown",
   "metadata": {},
   "source": [
    "# Libraries\n",
    "\n",
    "If you want to know about the packages, they usually have good documentation on what they can do and how to do it. Here's sklearn:\n",
    "https://scikit-learn.org/stable/"
   ]
  },
  {
   "cell_type": "code",
   "execution_count": null,
   "metadata": {},
   "outputs": [],
   "source": [
    "import pandas as pd #working with datasets\n",
    "\n",
    "import xgboost as xgb #xgboost algo\n",
    "\n",
    "#sklearn has many ML packages\n",
    "import sklearn as sk\n",
    "from sklearn.linear_model import LinearRegression as LR\n",
    "from sklearn.linear_model import SGDRegressor as GD\n",
    "from sklearn.metrics import mean_squared_error as MSE, r2_score as r2\n",
    "from sklearn import datasets, linear_model\n",
    "from sklearn.preprocessing import PolynomialFeatures\n",
    "from sklearn import linear_model\n",
    "from sklearn.metrics import accuracy_score\n",
    "from sklearn.model_selection import train_test_split\n",
    "from sklearn.ensemble import RandomForestRegressor\n",
    "from sklearn.metrics import r2_score,mean_squared_error\n",
    "from sklearn.model_selection import GridSearchCV"
   ]
  },
  {
   "cell_type": "markdown",
   "metadata": {},
   "source": [
    "# Functions\n",
    "\n",
    "Here are some valuable functions that I've used."
   ]
  },
  {
   "cell_type": "code",
   "execution_count": 1,
   "metadata": {},
   "outputs": [],
   "source": [
    "#pass the regressor, and regressand and it will produce a scatter plot with LR fit line. Good for visualizing correlation and fit.\n",
    "def LRgraph(regressor, regressand):\n",
    "\n",
    "    model = LR(normalize=True)\n",
    "    model.fit(regressor,regressand)\n",
    "    plt.scatter(regressor,regressand,color='g')\n",
    "    plt.plot(regressor,model.predict(regressor),color='k')\n",
    "    plt.show()\n",
    "    \n",
    "#builds a linear regression model\n",
    "def BuildModel(df, regressand, regressors_list, Metric):\n",
    "    \n",
    "    regressors = df.columns.intersection(regressors_list)\n",
    "\n",
    "    rowCount = df.shape[0]\n",
    "    trainNum = round(rowCount * 0.8)\n",
    "\n",
    "    train = df[0:trainNum]\n",
    "    test = df[trainNum:]\n",
    "\n",
    "    X_train = train[regressors]\n",
    "    y_train = train[regressand]\n",
    "    X_test = test[regressors]\n",
    "    y_test = test[regressand]\n",
    "    \n",
    "    first_term = np.linalg.inv(np.dot(np.transpose(X_train),X_train))\n",
    "    second_term = np.dot(np.transpose(X_train),y_train)\n",
    "\n",
    "    ols_estimation = np.dot(first_term, second_term)\n",
    "\n",
    "    lr = LR()\n",
    "    lr.fit(X_train,y_train)\n",
    "    lr_coeff = pd.DataFrame(lr.coef_, X_train.columns, columns=['Coefficient'])\n",
    "\n",
    "    y_pred = lr.predict(X_test)\n",
    "\n",
    "    if Metric == 'MSE':\n",
    "        print(MSE(y_test, y_pred))\n",
    "    elif Metric == 'r2':\n",
    "        print(r2_score(y_test, y_pred))\n",
    "    else:\n",
    "        both = 'r2: ' + str(r2_score(y_test, y_pred)) + ', MSE: ' + str(MSE(y_test, y_pred))\n",
    "        print(both)\n",
    "        \n",
    "    return lr\n",
    "\n",
    "#builds a linear regression model, and returns the coefficients for each variable\n",
    "def FindModelCoefficients(df, regressand, regressors_list):\n",
    "    \n",
    "    regressors = df.columns.intersection(regressors_list)\n",
    "\n",
    "    rowCount = df.shape[0]\n",
    "    trainNum = round(rowCount * 0.8)\n",
    "\n",
    "    train = df[0:trainNum]\n",
    "    test = df[trainNum:]\n",
    "\n",
    "    X_train = train[regressors]\n",
    "    y_train = train[regressand]\n",
    "    X_test = test[regressors]\n",
    "    y_test = test[regressand]\n",
    "    \n",
    "    first_term = np.linalg.inv(np.dot(np.transpose(X_train),X_train))\n",
    "    second_term = np.dot(np.transpose(X_train),y_train)\n",
    "\n",
    "    ols_estimation = np.dot(first_term, second_term)\n",
    "\n",
    "    lr = LR()\n",
    "    lr.fit(X_train,y_train)\n",
    "    lr_coeff = pd.DataFrame(lr.coef_, X_train.columns, columns=['Coefficient'])\n",
    "\n",
    "    y_pred = lr.predict(X_test)\n",
    "\n",
    "    return lr_coeff\n",
    "\n",
    "#builds a XGBoost model\n",
    "def BuildXGBoost(df, regressand_list, regressors_list, searchType='Randomized', method='Tree'):\n",
    "    \n",
    "    regressors = df.columns.intersection(regressors_list)\n",
    "    regressand = df.columns.intersection(regressand_list)\n",
    "    X = df[regressors]\n",
    "    y = df[regressand]\n",
    "    \n",
    "    X_train, X_test, y_train, y_test = train_test_split(X, y, train_size=0.75, random_state=42)\n",
    "    \n",
    "    params = {\n",
    "    'n_estimators': [50,100],\n",
    "    'max_depth': [None, 3, 5, 7, 9],\n",
    "    'eta': [0.5, 1, 2, 3]\n",
    "    }\n",
    "    \n",
    "    if method == 'Tree':\n",
    "        objectiveValue = 'reg:squarederror'\n",
    "        boosterValue = 'gbtree'\n",
    "    else:\n",
    "        objectiveValue = 'reg:linear'\n",
    "        boosterValue = 'gblinear'\n",
    "    \n",
    "    #original\n",
    "    if searchType == 'Grid':\n",
    "        search = GridSearchCV(xgb.XGBRegressor(objective=objectiveValue,booster=boosterValue,learning_rate=1),params,n_jobs=-1)\n",
    "    else:\n",
    "        search = RandomizedSearchCV(xgb.XGBRegressor(objective=objectiveValue,booster=boosterValue,learning_rate=1),params,n_jobs=-1)\n",
    "\n",
    "    search.fit(X_train, y_train)\n",
    "    \n",
    "    print(\"Test  R2 Score : %.2f\"%search.score(X_test, y_test))\n",
    "    print(\"Train R2 Score : %.2f\"%search.score(X_train, y_train))\n",
    "\n",
    "    print(\"Best Params : \", search.best_params_)\n",
    "    \n",
    "    return search\n"
   ]
  },
  {
   "cell_type": "code",
   "execution_count": null,
   "metadata": {},
   "outputs": [],
   "source": [
    "#pull results from SQL\n",
    "server = 'HFWDBRAT04PH'\n",
    "db = 'RMCCDev'\n",
    "query = \"\"\"\n",
    "        SELECT * FROM RMCCDev.EventsOptimization.Results\n",
    "        where DateType = 0 and attendance > 0\n",
    "        \"\"\"\n",
    "resultsPull = PullFromSQL(server, db, query)"
   ]
  },
  {
   "cell_type": "markdown",
   "metadata": {},
   "source": [
    "# ML Modeling Example"
   ]
  },
  {
   "cell_type": "code",
   "execution_count": null,
   "metadata": {},
   "outputs": [],
   "source": [
    "#assigning my dataset. you'll have to assign whatever data you are using\n",
    "attendance_df = attendancePull.copy()\n",
    "\n",
    "regressand_list = ['attendance']\n",
    "regressors_list = ['Capacity','Rivalry','Stadium_Avg_OccPerc','GoodnessMetric','TravelMetric','neutral_site']\n",
    "Metric = 'Randomized' #Grid/Randomized\n",
    "Method = 'Tree' #Tree/Linear\n",
    "\n",
    "#This builds a model using the \"def BuildXGBoost\" function above.\n",
    "AttendanceModel = BuildXGBoost(attendance_df, regressand_list, regressors_list, Metric, Method)"
   ]
  },
  {
   "cell_type": "code",
   "execution_count": null,
   "metadata": {},
   "outputs": [],
   "source": [
    "regressand = 'attendance'\n",
    "regressors_list = ['Capacity','Rivalry','Stadium_Avg_OccPerc','GoodnessMetric','TravelMetric','neutral_site']\n",
    "Metric = 'r2'\n",
    "\n",
    "#This builds a LR model using the \"def BuildModel\" function above.\n",
    "AttendanceModelLR = BuildModel(attendance_df, regressand, regressors_list, Metric)"
   ]
  },
  {
   "cell_type": "markdown",
   "metadata": {},
   "source": [
    "Now, you can use those models to produce predictions"
   ]
  },
  {
   "cell_type": "code",
   "execution_count": null,
   "metadata": {},
   "outputs": [],
   "source": [
    "#fs_df is the future schedule dataset. X_proj1 is the future schedule with only the regressor columns.\n",
    "X_proj1 = fs_df[['neutral_site','Capacity','Rivalry','Stadium_Avg_OccPerc','GoodnessMetric','TravelMetric']].copy()\n",
    "\n",
    "#make XGBoost predictions\n",
    "y_proj1 = AttendanceModel.predict(X_proj1)\n",
    "#make LR predictions\n",
    "y_proj2 = AttendanceModelLR.predict(X_proj1)\n",
    "\n",
    "#assign predictions as columns in the future schedule dataset\n",
    "fs_df['preds1'] = y_proj1\n",
    "fs_df['preds2'] = y_proj2"
   ]
  },
  {
   "cell_type": "code",
   "execution_count": null,
   "metadata": {},
   "outputs": [],
   "source": [
    "#take a look!\n",
    "fs_df"
   ]
  }
 ],
 "metadata": {
  "kernelspec": {
   "display_name": "Python 3",
   "language": "python",
   "name": "python3"
  },
  "language_info": {
   "codemirror_mode": {
    "name": "ipython",
    "version": 3
   },
   "file_extension": ".py",
   "mimetype": "text/x-python",
   "name": "python",
   "nbconvert_exporter": "python",
   "pygments_lexer": "ipython3",
   "version": "3.8.3"
  }
 },
 "nbformat": 4,
 "nbformat_minor": 4
}
